{
 "cells": [
  {
   "cell_type": "code",
   "execution_count": 5,
   "metadata": {},
   "outputs": [
    {
     "name": "stdout",
     "output_type": "stream",
     "text": [
      "371.0\n"
     ]
    }
   ],
   "source": [
    "import math \n",
    "\n",
    "input = 368078\n",
    "\n",
    "def side_length(number):\n",
    "    side = math.ceil(math.sqrt(number))\n",
    "    side = side if side % 2 != 0 else side + 1\n",
    "    return side\n",
    "\n",
    "side = side_length(input)\n",
    "steps_to_reach_center_from_axis = (side-1)/2\n",
    "axises = [side**2 - ((side-1) * i)  - math.floor(side/2) for i in range(0, 4)] #get the axis \"cells\"\n",
    "steps_to_reach_axix_from_input = min([abs(axis - input) for axis in axises])\n",
    "\n",
    "print(steps_to_reach_axix_from_input + steps_to_reach_center_from_axis)"
   ]
  },
  {
   "cell_type": "code",
   "execution_count": 7,
   "metadata": {},
   "outputs": [
    {
     "name": "stdout",
     "output_type": "stream",
     "text": [
      "369601\n"
     ]
    }
   ],
   "source": [
    "p_input = 368078\n",
    "# x, y, value\n",
    "values = [(0, 0, 1)]\n",
    "\n",
    "directions = [(0, 1), (-1, 0), (0, -1), (1, 0)]\n",
    "\n",
    "level = 1\n",
    "x, y = 0, 0\n",
    "\n",
    "terminate = False\n",
    "\n",
    "while not terminate:\n",
    "\n",
    "    for direction in range(4):\n",
    "\n",
    "        if terminate:\n",
    "            break\n",
    "\n",
    "        dirX, dirY = directions[direction]\n",
    "\n",
    "        if direction == 0:\n",
    "            moveN = level - 2\n",
    "        elif direction in [1, 2]:\n",
    "            moveN = level - 1\n",
    "        else:\n",
    "             moveN = level\n",
    "\n",
    "        for _ in range(moveN):\n",
    "\n",
    "            x += dirX\n",
    "            y += dirY\n",
    "\n",
    "            new = sum([k[2] for k in values if abs(x-k[0]) <= 1 and abs(y-k[1]) <= 1])\n",
    "            values.append((x, y, new))\n",
    "\n",
    "            if new >= p_input:\n",
    "                print new\n",
    "\n",
    "                terminate = True\n",
    "                break\n",
    "\n",
    "    level += 2"
   ]
  },
  {
   "cell_type": "code",
   "execution_count": null,
   "metadata": {
    "collapsed": true
   },
   "outputs": [],
   "source": []
  }
 ],
 "metadata": {
  "kernelspec": {
   "display_name": "Python 2",
   "language": "python",
   "name": "python2"
  },
  "language_info": {
   "codemirror_mode": {
    "name": "ipython",
    "version": 2
   },
   "file_extension": ".py",
   "mimetype": "text/x-python",
   "name": "python",
   "nbconvert_exporter": "python",
   "pygments_lexer": "ipython2",
   "version": "2.7.14"
  }
 },
 "nbformat": 4,
 "nbformat_minor": 2
}

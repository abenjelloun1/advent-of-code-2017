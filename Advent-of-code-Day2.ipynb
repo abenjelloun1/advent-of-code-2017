{
 "cells": [
  {
   "cell_type": "code",
   "execution_count": 1,
   "metadata": {
    "collapsed": true
   },
   "outputs": [],
   "source": [
    "import numpy as np"
   ]
  },
  {
   "cell_type": "code",
   "execution_count": 43,
   "metadata": {
    "collapsed": true
   },
   "outputs": [],
   "source": [
    "def read_input():\n",
    "    with open('day2-1.txt') as f:\n",
    "        return f.read()"
   ]
  },
  {
   "cell_type": "code",
   "execution_count": 44,
   "metadata": {
    "collapsed": true
   },
   "outputs": [],
   "source": [
    "a=read_input()\n",
    "a=a.split('\\n')\n",
    "for i in range(0,len(a)):\n",
    "    a[i]=a[i].split('\\t')\n",
    "    a[i] = list(map(lambda x: int(x), a[i]))\n",
    "a=np.array(a)"
   ]
  },
  {
   "cell_type": "code",
   "execution_count": 45,
   "metadata": {},
   "outputs": [
    {
     "data": {
      "text/plain": [
       "array([[1224,  926, 1380,  688,  845,  109,  118,   88, 1275, 1306,   91,\n",
       "         796,  102, 1361,   27,  995],\n",
       "       [1928, 2097,  138, 1824,  198,  117, 1532, 2000, 1478,  539, 1982,\n",
       "         125, 1856,  139,  475, 1338],\n",
       "       [ 848,  202, 1116,  791, 1114,  236,  183,  186,  150, 1016, 1258,\n",
       "          84,  952, 1202,  988,  866],\n",
       "       [ 946,  155,  210,  980,  896,  875,  925,  613,  209,  746,  147,\n",
       "         170,  577,  942,  475,  850],\n",
       "       [1500,  322,   43,   95,   74,  210, 1817, 1631, 1762,  128,  181,\n",
       "         716,  171, 1740,  145, 1123],\n",
       "       [3074,  827,  117, 2509,  161,  206, 2739,  253, 2884,  248, 3307,\n",
       "        2760, 2239, 1676, 1137, 3055],\n",
       "       [ 183,   85,  143,  197,  243,   72,  291,  279,   99,  189,   30,\n",
       "         101,  211,  209,   77,  198],\n",
       "       [ 175,  149,  259,  372,  140,  250,  168,  142,  146,  284,  273,\n",
       "          74,  162,  112,   78,   29],\n",
       "       [ 169,  578,   97,  589,  473,  317,  123,  102,  445,  217,  144,\n",
       "         398,  510,  464,  247,  109],\n",
       "       [3291,  216,  185, 1214,  167,  495, 1859,  194, 1030, 3456, 2021,\n",
       "        1622, 3511,  222, 3534, 1580],\n",
       "       [2066, 2418, 2324,   93, 1073,   82,  102,  538, 1552,  962,   91,\n",
       "         836, 1628, 2154, 2144, 1378],\n",
       "       [ 149,  963, 1242,  849,  726, 1158,  164, 1134,  658,  161, 1148,\n",
       "         336,  826, 1303,  811,  178],\n",
       "       [3421, 1404, 2360, 2643, 3186, 3352, 1112,  171,  168,  177,  146,\n",
       "        1945,  319,  185, 2927, 2289],\n",
       "       [ 543,  462,  111,  459,  107,  353, 2006,  116, 2528,   56, 2436,\n",
       "        1539, 1770,  125, 2697, 2432],\n",
       "       [1356,  208, 5013, 4231,  193,  169, 3152, 2543, 4430, 4070, 4031,\n",
       "         145, 4433, 4187, 4394, 1754],\n",
       "       [5278,  113, 4427,  569, 5167,  175,  192, 3903,  155, 1051, 4121,\n",
       "        5140, 2328,  203, 5653, 3233]])"
      ]
     },
     "execution_count": 45,
     "metadata": {},
     "output_type": "execute_result"
    }
   ],
   "source": [
    "b"
   ]
  },
  {
   "cell_type": "code",
   "execution_count": 39,
   "metadata": {},
   "outputs": [
    {
     "data": {
      "text/plain": [
       "34581"
      ]
     },
     "execution_count": 39,
     "metadata": {},
     "output_type": "execute_result"
    }
   ],
   "source": [
    "np.sum(np.amax(a,1)-np.amin(a,1))"
   ]
  },
  {
   "cell_type": "code",
   "execution_count": 60,
   "metadata": {
    "collapsed": true
   },
   "outputs": [],
   "source": [
    "list=[]\n",
    "for i in range(0,a.shape[0]):\n",
    "    for j in range(0,a.shape[1]):\n",
    "        for k in range(0,j)+range(j+1,a.shape[1]):\n",
    "            if float(a[i][j])%float(a[i][k])==0:\n",
    "                list.append(float(a[i][j])/float(a[i][k]))\n",
    "sum(list)               "
   ]
  },
  {
   "cell_type": "code",
   "execution_count": 61,
   "metadata": {},
   "outputs": [
    {
     "data": {
      "text/plain": [
       "214.0"
      ]
     },
     "execution_count": 61,
     "metadata": {},
     "output_type": "execute_result"
    }
   ],
   "source": [
    "sum(list)"
   ]
  },
  {
   "cell_type": "code",
   "execution_count": null,
   "metadata": {
    "collapsed": true
   },
   "outputs": [],
   "source": []
  }
 ],
 "metadata": {
  "kernelspec": {
   "display_name": "Python 2",
   "language": "python",
   "name": "python2"
  },
  "language_info": {
   "codemirror_mode": {
    "name": "ipython",
    "version": 2
   },
   "file_extension": ".py",
   "mimetype": "text/x-python",
   "name": "python",
   "nbconvert_exporter": "python",
   "pygments_lexer": "ipython2",
   "version": "2.7.14"
  }
 },
 "nbformat": 4,
 "nbformat_minor": 2
}
